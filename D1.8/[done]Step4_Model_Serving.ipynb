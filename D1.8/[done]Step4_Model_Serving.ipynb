{
 "cells": [
  {
   "cell_type": "markdown",
   "metadata": {},
   "source": [
    "# Iceberg Classification Step 4: Model Serving\n",
    "\n",
    "Notebook for serving The trained model for icerberg classification.\n",
    "\n",
    "This notebook will send inference requests to a model serving instance that was exported by notebook number three ([Notebook number three](./Step3_Distributed_Training.ipynb)). This assumes that you have created a model serving instance of the model by using the hopsworks UI. You can find documentation on how to do this [here](https://hops.readthedocs.io/en/0.9/hopsml/model_serving.html)\n",
    "\n",
    "This notebook is tested with the following ``configuration`` from hopsworks.\n",
    "<div>\n",
    "<img src=\"fig/step4_5_jupyter_config.png\" width=\"900\" align=\"center\"/>\n",
    "</div>"
   ]
  },
  {
   "cell_type": "markdown",
   "metadata": {},
   "source": [
    "## Imports"
   ]
  },
  {
   "cell_type": "code",
   "execution_count": 1,
   "metadata": {},
   "outputs": [
    {
     "name": "stdout",
     "output_type": "stream",
     "text": [
      "Starting Spark application\n"
     ]
    },
    {
     "data": {
      "text/html": [
       "<table>\n",
       "<tr><th>ID</th><th>YARN Application ID</th><th>Kind</th><th>State</th><th>Spark UI</th><th>Driver log</th></tr><tr><td>259</td><td>application_1619040920875_0292</td><td>pyspark</td><td>idle</td><td><a target=\"_blank\" href=\"http://hopsworks-2.novalocal:8088/proxy/application_1619040920875_0292/\">Link</a></td><td><a target=\"_blank\" href=\"http://hopsworks-2.novalocal:8042/node/containerlogs/container_e05_1619040920875_0292_01_000001/ExtremeEarth__tianzew0\">Link</a></td></tr></table>"
      ],
      "text/plain": [
       "<IPython.core.display.HTML object>"
      ]
     },
     "metadata": {},
     "output_type": "display_data"
    },
    {
     "name": "stdout",
     "output_type": "stream",
     "text": [
      "SparkSession available as 'spark'.\n",
      "-----------------------------------------------\n",
      "This notebook is tested with:\n",
      "  - TensorFlow 2.4.1.\n",
      "  - Hopsworks 2.1.0.1.\n",
      "  - Spark 2.4.3.2."
     ]
    }
   ],
   "source": [
    "import numpy as np\n",
    "import tensorflow as tf\n",
    "\n",
    "import hops\n",
    "from hops import serving\n",
    "from hops import kafka\n",
    "import hsfs\n",
    "\n",
    "# SparkSession available as 'spark'\n",
    "print(\n",
    "    f\"-----------------------------------------------\\n\" \\\n",
    "    f\"This notebook is tested with:\\n\" \\\n",
    "    f\"  - TensorFlow {tf.__version__}.\\n\" \\\n",
    "    f\"  - Hopsworks {hops.__version__}.\\n\" \\\n",
    "    f\"  - Spark {spark.version}.\\n\"\n",
    ")"
   ]
  },
  {
   "cell_type": "markdown",
   "metadata": {},
   "source": [
    "## Query Model Repository for best Ship Iceberg Classifer"
   ]
  },
  {
   "cell_type": "code",
   "execution_count": 2,
   "metadata": {},
   "outputs": [
    {
     "name": "stdout",
     "output_type": "stream",
     "text": [
      "Model name: ship_iceberg_classifier\n",
      "Model version: 11\n",
      "{'val_loss': '0.26797446608543396', 'train_loss': '0.25700217485427856', 'train_accuracy': '0.8842438459396362', 'val_accuracy': '0.8973606824874878'}"
     ]
    }
   ],
   "source": [
    "from hops import model\n",
    "from hops.model import Metric\n",
    "\n",
    "MODEL_NAME = 'ship_iceberg_classifier'\n",
    "EVALUATION_METRIC = 'val_accuracy'\n",
    "\n",
    "best_model = model.get_best_model(MODEL_NAME, EVALUATION_METRIC, Metric.MAX)\n",
    "\n",
    "print('Model name: ' + best_model['name'])\n",
    "print('Model version: ' + str(best_model['version']))\n",
    "print(best_model['metrics'])"
   ]
  },
  {
   "cell_type": "markdown",
   "metadata": {},
   "source": [
    "## Create Model Serving of Exported Model"
   ]
  },
  {
   "cell_type": "code",
   "execution_count": 3,
   "metadata": {},
   "outputs": [
    {
     "name": "stdout",
     "output_type": "stream",
     "text": [
      "Name of the serving model is ShipIcebergClassifier\n",
      "Creating a serving for model ShipIcebergClassifier ...\n",
      "Serving for model ShipIcebergClassifier successfully created"
     ]
    }
   ],
   "source": [
    "# Create serving\n",
    "model_path = '/Models/' + best_model['name']\n",
    "\n",
    "# Since the name of the serving model cannot contain special characters.\n",
    "serving_model_name = best_model['name'].title().replace('_', '')\n",
    "print('Name of the serving model is {}'.format(serving_model_name))\n",
    "\n",
    "response = serving.create_or_update(\n",
    "                                        model_path,\n",
    "                                        serving_model_name,\n",
    "                                        serving_type=\"TENSORFLOW\",\n",
    "                                        model_version=best_model['version']\n",
    "                                    )"
   ]
  },
  {
   "cell_type": "code",
   "execution_count": 4,
   "metadata": {},
   "outputs": [
    {
     "name": "stdout",
     "output_type": "stream",
     "text": [
      "ShipIcebergClassifier"
     ]
    }
   ],
   "source": [
    "# List all available servings in the project\n",
    "for s in serving.get_all():\n",
    "    print(s.name)"
   ]
  },
  {
   "cell_type": "code",
   "execution_count": 5,
   "metadata": {},
   "outputs": [
    {
     "name": "stdout",
     "output_type": "stream",
     "text": [
      "'Running'"
     ]
    }
   ],
   "source": [
    "# Get serving status\n",
    "serving.get_status(serving_model_name)"
   ]
  },
  {
   "cell_type": "markdown",
   "metadata": {},
   "source": [
    "## Start Model Serving Server"
   ]
  },
  {
   "cell_type": "code",
   "execution_count": 6,
   "metadata": {},
   "outputs": [],
   "source": [
    "if serving.get_status(serving_model_name) == 'Stopped':\n",
    "    serving.start(serving_model_name)"
   ]
  },
  {
   "cell_type": "code",
   "execution_count": 7,
   "metadata": {},
   "outputs": [],
   "source": [
    "import time\n",
    "\n",
    "while serving.get_status(serving_model_name) != \"Running\":\n",
    "    time.sleep(5) # Let the serving startup correctly\n",
    "time.sleep(5)"
   ]
  },
  {
   "cell_type": "code",
   "execution_count": 8,
   "metadata": {},
   "outputs": [
    {
     "name": "stdout",
     "output_type": "stream",
     "text": [
      "'Running'"
     ]
    }
   ],
   "source": [
    "# Get serving status\n",
    "serving.get_status(serving_model_name)"
   ]
  },
  {
   "cell_type": "markdown",
   "metadata": {},
   "source": [
    "# Send Prediction Requests to the Served Model using Hopsworks REST API"
   ]
  },
  {
   "cell_type": "markdown",
   "metadata": {},
   "source": [
    "## Make inference with randomly generated data"
   ]
  },
  {
   "cell_type": "code",
   "execution_count": 9,
   "metadata": {},
   "outputs": [
    {
     "name": "stdout",
     "output_type": "stream",
     "text": [
      "{'predictions': [[0.226102531]]}\n",
      "{'predictions': [[0.208495587]]}\n",
      "{'predictions': [[0.225897491]]}\n",
      "{'predictions': [[0.184417903]]}\n",
      "{'predictions': [[0.203099102]]}\n",
      "{'predictions': [[0.197350144]]}\n",
      "{'predictions': [[0.218518704]]}\n",
      "{'predictions': [[0.223318249]]}\n",
      "{'predictions': [[0.224881798]]}\n",
      "{'predictions': [[0.207158417]]}\n",
      "{'predictions': [[0.205661744]]}\n",
      "{'predictions': [[0.224630475]]}\n",
      "{'predictions': [[0.222884297]]}\n",
      "{'predictions': [[0.231528491]]}\n",
      "{'predictions': [[0.217980802]]}\n",
      "{'predictions': [[0.208974451]]}\n",
      "{'predictions': [[0.20945847]]}\n",
      "{'predictions': [[0.213686436]]}\n",
      "{'predictions': [[0.207000226]]}\n",
      "{'predictions': [[0.23481369]]}"
     ]
    }
   ],
   "source": [
    "for i in range(20):\n",
    "    data = {\n",
    "                \"signature_name\": \"serving_default\",\n",
    "                \"instances\": [np.random.rand(75, 75, 3).tolist()]\n",
    "            }\n",
    "    \n",
    "    response = serving.make_inference_request(serving_model_name, data)\n",
    "    print(response)"
   ]
  },
  {
   "cell_type": "markdown",
   "metadata": {},
   "source": [
    "## Make inference with data from feature store"
   ]
  },
  {
   "cell_type": "code",
   "execution_count": 10,
   "metadata": {},
   "outputs": [],
   "source": [
    "def create_severing_datasets():\n",
    "    # Establish a connection with the Hopsworks feature store\n",
    "    #     engine='training' is needed so that the executors in Spark can connect to feature store\n",
    "    connection = hsfs.connection(engine='training')\n",
    "    # Get the feature store handle for the project's feature store\n",
    "    fs = connection.get_feature_store()\n",
    "    \n",
    "\n",
    "    TEST_FS_NAME = 'test_tfrecords_iceberg_classification_dataset'\n",
    "    \n",
    "    def decode(sample):\n",
    "        \"\"\"Decode each training sample.\n",
    "        \n",
    "        This funtionc decode each sample and return it in a format that is ready for training.\n",
    "        \n",
    "        Parameters:\n",
    "        - sample: raw features of a data sample stored in a dictionary-like object\n",
    "        \n",
    "        Returns:\n",
    "        - x: 'band_1', 'band_2', and 'band_avg' will be reshaped and stacked\n",
    "             and form the input of the model\n",
    "        - y: 'is_iceberg' will be the output of the model.\n",
    "        \"\"\"\n",
    "        \n",
    "        name_list = ['band_1', 'band_2', 'band_avg', 'is_iceberg']\n",
    "        x = tf.stack([sample[name_list[0]], sample[name_list[1]], sample[name_list[2]]], axis=1)\n",
    "        x = tf.reshape(x, [75, 75, 3])\n",
    "        y = [tf.cast(sample[name_list[3]], tf.float32)]\n",
    "        return x,y\n",
    "\n",
    "    \n",
    "    # Evaluation dataset in TFRecord format\n",
    "    eval_ds = fs.get_training_dataset(name=TEST_FS_NAME).tf_data(target_name='is_iceberg')\n",
    "    eval_ds = eval_ds.tf_record_dataset(process=False, batch_size=1, num_epochs=1)\n",
    "    eval_ds_processed = eval_ds.map(decode).repeat(1).cache().batch(1).prefetch(tf.data.experimental.AUTOTUNE)\n",
    "    \n",
    "    return eval_ds_processed"
   ]
  },
  {
   "cell_type": "code",
   "execution_count": 11,
   "metadata": {},
   "outputs": [],
   "source": [
    "def perform_inference(eval_ds, times=100):\n",
    "    # Create iterator over the dataset\n",
    "    dataset_iter = iter(eval_ds)\n",
    "    \n",
    "    for i in range(times):\n",
    "        x, y = dataset_iter.get_next()\n",
    "        request_data={}\n",
    "        request_data['instances'] = [x.numpy().reshape((75, 75, 3)).tolist()]\n",
    "        \n",
    "        response = serving.make_inference_request(\"ShipIcebergClassifier\", data=request_data, verb= \":predict\")\n",
    "        \n",
    "        print(\"prediction: {:.10f},\\t is_iceberg (ground truth): {}\".format(response['predictions'][0][0], y[0][0]))       \n",
    "        "
   ]
  },
  {
   "cell_type": "code",
   "execution_count": 12,
   "metadata": {},
   "outputs": [
    {
     "name": "stdout",
     "output_type": "stream",
     "text": [
      "Connected. Call `.close()` to terminate connection gracefully.\n",
      "VersionWarning: No version provided for getting training dataset `test_tfrecords_iceberg_classification_dataset`, defaulting to `1`."
     ]
    }
   ],
   "source": [
    "eval_ds = create_severing_datasets()"
   ]
  },
  {
   "cell_type": "code",
   "execution_count": 13,
   "metadata": {},
   "outputs": [
    {
     "name": "stdout",
     "output_type": "stream",
     "text": [
      "<class 'tensorflow.python.data.ops.dataset_ops.PrefetchDataset'>"
     ]
    }
   ],
   "source": [
    "type(eval_ds)"
   ]
  },
  {
   "cell_type": "code",
   "execution_count": 14,
   "metadata": {
    "scrolled": true
   },
   "outputs": [
    {
     "name": "stdout",
     "output_type": "stream",
     "text": [
      "prediction: 0.7165821190,\t is_iceberg (ground truth): 1.0\n",
      "prediction: 0.7234406470,\t is_iceberg (ground truth): 1.0\n",
      "prediction: 0.5848169330,\t is_iceberg (ground truth): 0.0\n",
      "prediction: 0.0000000000,\t is_iceberg (ground truth): 0.0\n",
      "prediction: 0.5488666300,\t is_iceberg (ground truth): 0.0\n",
      "prediction: 0.0050038695,\t is_iceberg (ground truth): 0.0\n",
      "prediction: 0.0084540844,\t is_iceberg (ground truth): 0.0\n",
      "prediction: 0.0064917803,\t is_iceberg (ground truth): 0.0\n",
      "prediction: 0.6524358990,\t is_iceberg (ground truth): 0.0\n",
      "prediction: 0.0000000028,\t is_iceberg (ground truth): 0.0\n",
      "prediction: 0.6434885260,\t is_iceberg (ground truth): 0.0\n",
      "prediction: 0.9008358120,\t is_iceberg (ground truth): 1.0\n",
      "prediction: 0.5515529510,\t is_iceberg (ground truth): 1.0\n",
      "prediction: 0.4113817810,\t is_iceberg (ground truth): 0.0\n",
      "prediction: 0.5667071340,\t is_iceberg (ground truth): 1.0\n",
      "prediction: 0.8533031940,\t is_iceberg (ground truth): 1.0\n",
      "prediction: 0.8942123650,\t is_iceberg (ground truth): 1.0\n",
      "prediction: 0.0248760581,\t is_iceberg (ground truth): 0.0\n",
      "prediction: 0.0000000000,\t is_iceberg (ground truth): 0.0\n",
      "prediction: 0.3880789280,\t is_iceberg (ground truth): 1.0\n",
      "prediction: 0.0000000000,\t is_iceberg (ground truth): 0.0\n",
      "prediction: 0.0200474262,\t is_iceberg (ground truth): 0.0\n",
      "prediction: 0.4714426100,\t is_iceberg (ground truth): 0.0\n",
      "prediction: 0.0208151340,\t is_iceberg (ground truth): 0.0\n",
      "prediction: 0.5216779110,\t is_iceberg (ground truth): 1.0\n",
      "prediction: 0.3393338920,\t is_iceberg (ground truth): 0.0\n",
      "prediction: 0.0000202836,\t is_iceberg (ground truth): 0.0\n",
      "prediction: 0.9630751610,\t is_iceberg (ground truth): 1.0\n",
      "prediction: 0.0011569858,\t is_iceberg (ground truth): 0.0\n",
      "prediction: 0.4505082070,\t is_iceberg (ground truth): 0.0\n",
      "prediction: 0.4444926380,\t is_iceberg (ground truth): 0.0\n",
      "prediction: 0.0000956411,\t is_iceberg (ground truth): 0.0\n",
      "prediction: 0.2837888600,\t is_iceberg (ground truth): 0.0\n",
      "prediction: 0.5675193070,\t is_iceberg (ground truth): 0.0\n",
      "prediction: 0.7819846870,\t is_iceberg (ground truth): 1.0\n",
      "prediction: 0.4885014590,\t is_iceberg (ground truth): 0.0\n",
      "prediction: 0.7420791390,\t is_iceberg (ground truth): 1.0\n",
      "prediction: 0.0025430322,\t is_iceberg (ground truth): 0.0\n",
      "prediction: 0.0102137625,\t is_iceberg (ground truth): 0.0\n",
      "prediction: 0.2354505360,\t is_iceberg (ground truth): 0.0\n",
      "prediction: 0.6031554940,\t is_iceberg (ground truth): 1.0\n",
      "prediction: 0.0850126743,\t is_iceberg (ground truth): 0.0\n",
      "prediction: 0.9845385550,\t is_iceberg (ground truth): 1.0\n",
      "prediction: 0.0000000000,\t is_iceberg (ground truth): 0.0\n",
      "prediction: 0.9990623000,\t is_iceberg (ground truth): 1.0\n",
      "prediction: 0.8114606140,\t is_iceberg (ground truth): 1.0\n",
      "prediction: 0.5113434200,\t is_iceberg (ground truth): 1.0\n",
      "prediction: 0.9575294260,\t is_iceberg (ground truth): 1.0\n",
      "prediction: 0.8146620000,\t is_iceberg (ground truth): 1.0\n",
      "prediction: 0.9689195160,\t is_iceberg (ground truth): 1.0\n",
      "prediction: 0.9995825290,\t is_iceberg (ground truth): 1.0\n",
      "prediction: 0.6840538380,\t is_iceberg (ground truth): 1.0\n",
      "prediction: 0.1731618940,\t is_iceberg (ground truth): 1.0\n",
      "prediction: 0.6581169370,\t is_iceberg (ground truth): 0.0\n",
      "prediction: 0.6831880810,\t is_iceberg (ground truth): 1.0\n",
      "prediction: 0.9999450450,\t is_iceberg (ground truth): 1.0\n",
      "prediction: 0.5994867680,\t is_iceberg (ground truth): 1.0\n",
      "prediction: 0.9957606200,\t is_iceberg (ground truth): 1.0\n",
      "prediction: 0.9730021950,\t is_iceberg (ground truth): 1.0\n",
      "prediction: 0.9549929500,\t is_iceberg (ground truth): 1.0\n",
      "prediction: 0.9937323330,\t is_iceberg (ground truth): 1.0\n",
      "prediction: 0.0000128313,\t is_iceberg (ground truth): 0.0\n",
      "prediction: 0.0000000000,\t is_iceberg (ground truth): 0.0\n",
      "prediction: 0.5878325100,\t is_iceberg (ground truth): 1.0\n",
      "prediction: 0.5625743870,\t is_iceberg (ground truth): 0.0\n",
      "prediction: 0.0010772348,\t is_iceberg (ground truth): 0.0\n",
      "prediction: 0.0000000000,\t is_iceberg (ground truth): 0.0\n",
      "prediction: 0.0000000000,\t is_iceberg (ground truth): 0.0\n",
      "prediction: 0.8106644150,\t is_iceberg (ground truth): 1.0\n",
      "prediction: 0.1632988750,\t is_iceberg (ground truth): 0.0\n",
      "prediction: 0.3712807600,\t is_iceberg (ground truth): 0.0\n",
      "prediction: 0.0000000000,\t is_iceberg (ground truth): 0.0\n",
      "prediction: 0.9566408990,\t is_iceberg (ground truth): 1.0\n",
      "prediction: 0.1293043790,\t is_iceberg (ground truth): 0.0\n",
      "prediction: 0.2378984390,\t is_iceberg (ground truth): 0.0\n",
      "prediction: 0.0143634081,\t is_iceberg (ground truth): 0.0\n",
      "prediction: 0.4169746640,\t is_iceberg (ground truth): 0.0\n",
      "prediction: 0.4012743830,\t is_iceberg (ground truth): 0.0\n",
      "prediction: 0.8219811920,\t is_iceberg (ground truth): 1.0\n",
      "prediction: 0.1239898800,\t is_iceberg (ground truth): 1.0\n",
      "prediction: 0.6520987750,\t is_iceberg (ground truth): 0.0\n",
      "prediction: 0.7384519580,\t is_iceberg (ground truth): 1.0\n",
      "prediction: 0.9749065640,\t is_iceberg (ground truth): 1.0\n",
      "prediction: 0.4287362690,\t is_iceberg (ground truth): 0.0\n",
      "prediction: 0.9581265450,\t is_iceberg (ground truth): 1.0\n",
      "prediction: 0.9331187010,\t is_iceberg (ground truth): 1.0\n",
      "prediction: 0.5087423320,\t is_iceberg (ground truth): 1.0\n",
      "prediction: 0.9379104380,\t is_iceberg (ground truth): 1.0\n",
      "prediction: 0.5535583500,\t is_iceberg (ground truth): 1.0\n",
      "prediction: 0.0007601380,\t is_iceberg (ground truth): 0.0\n",
      "prediction: 0.7011994720,\t is_iceberg (ground truth): 1.0\n",
      "prediction: 0.0081546600,\t is_iceberg (ground truth): 0.0\n",
      "prediction: 0.9996898170,\t is_iceberg (ground truth): 1.0\n",
      "prediction: 0.0000000000,\t is_iceberg (ground truth): 0.0\n",
      "prediction: 0.4469876890,\t is_iceberg (ground truth): 0.0\n",
      "prediction: 0.0000000012,\t is_iceberg (ground truth): 0.0\n",
      "prediction: 0.3652343750,\t is_iceberg (ground truth): 1.0\n",
      "prediction: 0.9755728240,\t is_iceberg (ground truth): 1.0\n",
      "prediction: 0.6899474860,\t is_iceberg (ground truth): 1.0\n",
      "prediction: 0.0603459775,\t is_iceberg (ground truth): 0.0"
     ]
    }
   ],
   "source": [
    "perform_inference(eval_ds)"
   ]
  },
  {
   "cell_type": "markdown",
   "metadata": {},
   "source": [
    "# End of Step 4."
   ]
  }
 ],
 "metadata": {
  "kernelspec": {
   "display_name": "PySpark",
   "language": "python",
   "name": "pysparkkernel"
  },
  "language_info": {
   "codemirror_mode": {
    "name": "python",
    "version": 3
   },
   "mimetype": "text/x-python",
   "name": "pyspark",
   "pygments_lexer": "python3"
  }
 },
 "nbformat": 4,
 "nbformat_minor": 4
}