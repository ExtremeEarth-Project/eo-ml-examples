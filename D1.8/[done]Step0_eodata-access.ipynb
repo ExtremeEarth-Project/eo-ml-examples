{
 "cells": [
  {
   "cell_type": "code",
   "execution_count": 20,
   "metadata": {},
   "outputs": [],
   "source": [
    "import boto3\n",
    "\n",
    "access_key='anystring'\n",
    "secret_key='anystring'\n",
    "\n",
    "host='http://data.cloudferro.com'\n",
    "\n",
    "s3=boto3.client('s3',aws_access_key_id=access_key,\n",
    "aws_secret_access_key=secret_key, endpoint_url=host,)"
   ]
  },
  {
   "cell_type": "code",
   "execution_count": 21,
   "metadata": {},
   "outputs": [
    {
     "name": "stdout",
     "output_type": "stream",
     "text": [
      "{'Prefix': 'Sentinel-2/MSI/L1C/2020/01/08/S2A_MSIL1C_20200108T004011_N0208_R002_T56TNT_20200108T022007.SAFE/'}\n",
      "{'Prefix': 'Sentinel-2/MSI/L1C/2020/01/08/S2A_MSIL1C_20200108T004011_N0208_R002_T56TPT_20200108T022007.SAFE/'}\n",
      "{'Prefix': 'Sentinel-2/MSI/L1C/2020/01/08/S2A_MSIL1C_20200108T004011_N0208_R002_T56TQT_20200108T022007.SAFE/'}\n",
      "{'Prefix': 'Sentinel-2/MSI/L1C/2020/01/08/S2A_MSIL1C_20200108T004011_N0208_R002_T56UNU_20200108T022007.SAFE/'}\n",
      "{'Prefix': 'Sentinel-2/MSI/L1C/2020/01/08/S2A_MSIL1C_20200108T004011_N0208_R002_T56UPA_20200108T022007.SAFE/'}\n",
      "{'Prefix': 'Sentinel-2/MSI/L1C/2020/01/08/S2A_MSIL1C_20200108T004011_N0208_R002_T56UPB_20200108T022007.SAFE/'}\n",
      "{'Prefix': 'Sentinel-2/MSI/L1C/2020/01/08/S2A_MSIL1C_20200108T004011_N0208_R002_T56UPC_20200108T022007.SAFE/'}\n",
      "{'Prefix': 'Sentinel-2/MSI/L1C/2020/01/08/S2A_MSIL1C_20200108T004011_N0208_R002_T56UPD_20200108T022007.SAFE/'}\n",
      "{'Prefix': 'Sentinel-2/MSI/L1C/2020/01/08/S2A_MSIL1C_20200108T004011_N0208_R002_T56UPU_20200108T022007.SAFE/'}\n",
      "{'Prefix': 'Sentinel-2/MSI/L1C/2020/01/08/S2A_MSIL1C_20200108T004011_N0208_R002_T56UPV_20200108T022007.SAFE/'}\n",
      "{'Prefix': 'Sentinel-2/MSI/L1C/2020/01/08/S2A_MSIL1C_20200108T004011_N0208_R002_T56UQA_20200108T022007.SAFE/'}\n",
      "{'Prefix': 'Sentinel-2/MSI/L1C/2020/01/08/S2A_MSIL1C_20200108T004011_N0208_R002_T56UQB_20200108T022007.SAFE/'}\n",
      "{'Prefix': 'Sentinel-2/MSI/L1C/2020/01/08/S2A_MSIL1C_20200108T004011_N0208_R002_T56UQC_20200108T022007.SAFE/'}\n",
      "{'Prefix': 'Sentinel-2/MSI/L1C/2020/01/08/S2A_MSIL1C_20200108T004011_N0208_R002_T56UQD_20200108T022007.SAFE/'}\n",
      "{'Prefix': 'Sentinel-2/MSI/L1C/2020/01/08/S2A_MSIL1C_20200108T004011_N0208_R002_T56UQE_20200108T022007.SAFE/'}\n",
      "{'Prefix': 'Sentinel-2/MSI/L1C/2020/01/08/S2A_MSIL1C_20200108T004011_N0208_R002_T56UQU_20200108T022007.SAFE/'}\n",
      "{'Prefix': 'Sentinel-2/MSI/L1C/2020/01/08/S2A_MSIL1C_20200108T004011_N0208_R002_T56UQV_20200108T022007.SAFE/'}\n",
      "{'Prefix': 'Sentinel-2/MSI/L1C/2020/01/08/S2A_MSIL1C_20200108T004011_N0208_R002_T57TUN_20200108T022007.SAFE/'}\n",
      "{'Prefix': 'Sentinel-2/MSI/L1C/2020/01/08/S2A_MSIL1C_20200108T004011_N0208_R002_T57TVN_20200108T022007.SAFE/'}\n",
      "{'Prefix': 'Sentinel-2/MSI/L1C/2020/01/08/S2A_MSIL1C_20200108T004011_N0208_R002_T57UUA_20200108T022007.SAFE/'}"
     ]
    }
   ],
   "source": [
    "# Accessing EO data stored on CREODIAS via Hopsworks and the Python boto3 client\n",
    "for i in s3.list_objects(Delimiter='/', Bucket=\"DIAS\", Prefix='Sentinel-2/MSI/L1C/2020/01/08/',MaxKeys=20)['CommonPrefixes']:\n",
    "    print(i)"
   ]
  },
  {
   "cell_type": "code",
   "execution_count": 22,
   "metadata": {},
   "outputs": [],
   "source": [
    "# Read a Landsat-3 image with Spark\n",
    "df = spark.read.format(\"image\").option(\"dropInvalid\", \"true\").load(\"file:///eodata/Landsat-5/TM/L1T/2011/11/11/LS05_RKSE_TM__GTC_1P_20111111T093819_20111111T093847_147313_0191_0025_1E1E/LS05_RKSE_TM__GTC_1P_20111111T093819_20111111T093847_147313_0191_0025_1E1E.BP.PNG\")"
   ]
  },
  {
   "cell_type": "code",
   "execution_count": 23,
   "metadata": {},
   "outputs": [
    {
     "name": "stdout",
     "output_type": "stream",
     "text": [
      "1"
     ]
    }
   ],
   "source": [
    "df.count()"
   ]
  },
  {
   "cell_type": "code",
   "execution_count": 24,
   "metadata": {},
   "outputs": [
    {
     "name": "stdout",
     "output_type": "stream",
     "text": [
      "root\n",
      " |-- image: struct (nullable = true)\n",
      " |    |-- origin: string (nullable = true)\n",
      " |    |-- height: integer (nullable = true)\n",
      " |    |-- width: integer (nullable = true)\n",
      " |    |-- nChannels: integer (nullable = true)\n",
      " |    |-- mode: integer (nullable = true)\n",
      " |    |-- data: binary (nullable = true)"
     ]
    }
   ],
   "source": [
    "# List the image metadata\n",
    "df.printSchema()"
   ]
  },
  {
   "cell_type": "code",
   "execution_count": 25,
   "metadata": {},
   "outputs": [
    {
     "name": "stdout",
     "output_type": "stream",
     "text": [
      "+-------------------------------------------------------------------------------------------------------------------------------------------------------------------------------------------------------+-----+------+\n",
      "|origin                                                                                                                                                                                                 |width|height|\n",
      "+-------------------------------------------------------------------------------------------------------------------------------------------------------------------------------------------------------+-----+------+\n",
      "|file:///eodata/Landsat-5/TM/L1T/2011/11/11/LS05_RKSE_TM__GTC_1P_20111111T093819_20111111T093847_147313_0191_0025_1E1E/LS05_RKSE_TM__GTC_1P_20111111T093819_20111111T093847_147313_0191_0025_1E1E.BP.PNG|1448 |1448  |\n",
      "+-------------------------------------------------------------------------------------------------------------------------------------------------------------------------------------------------------+-----+------+"
     ]
    }
   ],
   "source": [
    "# Print specific image metadata\n",
    "df.select(\"image.origin\", \"image.width\", \"image.height\").show(truncate=False)"
   ]
  }
 ],
 "metadata": {
  "kernelspec": {
   "display_name": "PySpark",
   "language": "python",
   "name": "pysparkkernel"
  },
  "language_info": {
   "codemirror_mode": {
    "name": "python",
    "version": 3
   },
   "mimetype": "text/x-python",
   "name": "pyspark",
   "pygments_lexer": "python3"
  }
 },
 "nbformat": 4,
 "nbformat_minor": 4
}