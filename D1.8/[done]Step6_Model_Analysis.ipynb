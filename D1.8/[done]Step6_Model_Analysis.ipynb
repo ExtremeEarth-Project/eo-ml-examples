{
 "cells": [
  {
   "cell_type": "markdown",
   "metadata": {},
   "source": [
    "# Iceberg Classification Step 6: Model Analysis\n",
    "\n",
    "Note that this notebook needs classic jupyter notebook for widget visulization.\n",
    "\n",
    "This notebook is tested with the following ``configuration`` from hopsworks.\n",
    "<div>\n",
    "<img src=\"fig/step6_jupyter_config.png\" width=\"900\" align=\"center\"/>\n",
    "</div>"
   ]
  },
  {
   "cell_type": "markdown",
   "metadata": {
    "colab_type": "text",
    "id": "UiNxsd4_q9wq"
   },
   "source": [
    "### What-If Tool in a jupyter notebook\n",
    "\n",
    "WARNING: This notebook only runs on \"classic\" Jupyter, not on Jupyterlab.\n",
    "\n",
    "This notebook shows use of the [What-If Tool](https://pair-code.github.io/what-if-tool) inside of a jupyter notebook.\n",
    "\n",
    "This notebook trains a linear classifier on the [UCI census problem](https://archive.ics.uci.edu/ml/datasets/census+income) (predicting whether a person earns more than $50K from their census information).\n",
    "\n",
    "It then visualizes the results of the trained classifier on test data using the What-If Tool.\n"
   ]
  },
  {
   "cell_type": "code",
   "execution_count": 1,
   "metadata": {},
   "outputs": [],
   "source": [
    "import os\n",
    "import statistics\n",
    "import functools\n",
    "from hops import hdfs\n",
    "import pandas as pd\n",
    "import numpy as np\n",
    "import tensorflow as tf"
   ]
  },
  {
   "cell_type": "markdown",
   "metadata": {},
   "source": [
    "## Load the original dataset as pandas dataframe"
   ]
  },
  {
   "cell_type": "code",
   "execution_count": 2,
   "metadata": {},
   "outputs": [
    {
     "name": "stdout",
     "output_type": "stream",
     "text": [
      "train_ds_path: hdfs://rpc.namenode.service.consul:8020/Projects/ExtremeEarth/eodata/train.json\n"
     ]
    }
   ],
   "source": [
    "DATA_FOLDER = 'eodata'\n",
    "# get data path\n",
    "train_ds_path = os.path.join(hdfs.project_path(), DATA_FOLDER,'train.json')\n",
    "print(\"train_ds_path:\", train_ds_path)\n",
    "\n",
    "# read the raw data to pandas dataframe\n",
    "raw_train_df = pd.read_json(train_ds_path)\n",
    "\n",
    "raw_train_df['inc_angle'] = raw_train_df['inc_angle'].replace('na', '-1').astype('float64')\n",
    "raw_train_df['is_iceberg'] = raw_train_df['is_iceberg'].astype('int64')"
   ]
  },
  {
   "cell_type": "code",
   "execution_count": 3,
   "metadata": {},
   "outputs": [
    {
     "name": "stdout",
     "output_type": "stream",
     "text": [
      "<class 'pandas.core.frame.DataFrame'>\n",
      "RangeIndex: 1604 entries, 0 to 1603\n",
      "Data columns (total 5 columns):\n",
      " #   Column      Non-Null Count  Dtype  \n",
      "---  ------      --------------  -----  \n",
      " 0   id          1604 non-null   object \n",
      " 1   band_1      1604 non-null   object \n",
      " 2   band_2      1604 non-null   object \n",
      " 3   inc_angle   1604 non-null   float64\n",
      " 4   is_iceberg  1604 non-null   int64  \n",
      "dtypes: float64(1), int64(1), object(3)\n",
      "memory usage: 62.8+ KB\n"
     ]
    }
   ],
   "source": [
    "raw_train_df.info()"
   ]
  },
  {
   "cell_type": "markdown",
   "metadata": {},
   "source": [
    "## Create some new features."
   ]
  },
  {
   "cell_type": "code",
   "execution_count": 4,
   "metadata": {},
   "outputs": [],
   "source": [
    "# a function for taking list average\n",
    "def list_avg(row):\n",
    "    \"\"\"Take element-wise average of two list.\"\"\"\n",
    "    return [sum(x)/2 for x in zip(row['band_1'], row['band_2'])]\n",
    "\n",
    "def elementwise_absolute_difference(row):\n",
    "    \"\"\"Take element-wise absolute difference of two list.\"\"\"\n",
    "    return [abs(x[0] - x[1]) for x in zip(row['band_1'], row['band_2'])]\n",
    "\n",
    "# element-wise average between band_1 and band_2\n",
    "raw_train_df['band_avg'] = raw_train_df.apply(lambda row: list_avg(row), axis=1)\n",
    "# max of element-wise absoulute difference between band_1 and band_2.\n",
    "raw_train_df['elementwise_diff_max'] = raw_train_df.apply(lambda row: max(elementwise_absolute_difference(row)), axis=1)\n",
    "# min of element-wise absoulute difference between band_1 and band_2.\n",
    "raw_train_df['elementwise_diff_min'] = raw_train_df.apply(lambda row: min(elementwise_absolute_difference(row)), axis=1)\n",
    "# average of element-wise absoulute difference between band_1 and band_2.\n",
    "raw_train_df['elementwise_diff_mean'] = raw_train_df.apply(lambda row: statistics.mean(elementwise_absolute_difference(row)), axis=1)"
   ]
  },
  {
   "cell_type": "code",
   "execution_count": 5,
   "metadata": {},
   "outputs": [
    {
     "data": {
      "text/html": [
       "<div>\n",
       "<style scoped>\n",
       "    .dataframe tbody tr th:only-of-type {\n",
       "        vertical-align: middle;\n",
       "    }\n",
       "\n",
       "    .dataframe tbody tr th {\n",
       "        vertical-align: top;\n",
       "    }\n",
       "\n",
       "    .dataframe thead th {\n",
       "        text-align: right;\n",
       "    }\n",
       "</style>\n",
       "<table border=\"1\" class=\"dataframe\">\n",
       "  <thead>\n",
       "    <tr style=\"text-align: right;\">\n",
       "      <th></th>\n",
       "      <th>id</th>\n",
       "      <th>band_1</th>\n",
       "      <th>band_2</th>\n",
       "      <th>inc_angle</th>\n",
       "      <th>is_iceberg</th>\n",
       "      <th>band_avg</th>\n",
       "      <th>elementwise_diff_max</th>\n",
       "      <th>elementwise_diff_min</th>\n",
       "      <th>elementwise_diff_mean</th>\n",
       "    </tr>\n",
       "  </thead>\n",
       "  <tbody>\n",
       "    <tr>\n",
       "      <th>945</th>\n",
       "      <td>07d60155</td>\n",
       "      <td>[-17.512577, -14.719253, -13.760696, -12.83898...</td>\n",
       "      <td>[-23.238712, -24.047201, -24.261593, -23.23845...</td>\n",
       "      <td>31.5671</td>\n",
       "      <td>0</td>\n",
       "      <td>[-20.3756445, -19.383227, -19.0111445, -18.038...</td>\n",
       "      <td>21.087152</td>\n",
       "      <td>0.0</td>\n",
       "      <td>8.852034</td>\n",
       "    </tr>\n",
       "    <tr>\n",
       "      <th>121</th>\n",
       "      <td>1dc1c160</td>\n",
       "      <td>[-20.755899, -19.012949, -18.019245, -18.37876...</td>\n",
       "      <td>[-24.277725, -25.033548, -24.774302, -24.03989...</td>\n",
       "      <td>40.3904</td>\n",
       "      <td>1</td>\n",
       "      <td>[-22.516812, -22.0232485, -21.396773500000002,...</td>\n",
       "      <td>20.078608</td>\n",
       "      <td>0.0</td>\n",
       "      <td>7.542646</td>\n",
       "    </tr>\n",
       "    <tr>\n",
       "      <th>1101</th>\n",
       "      <td>3e07a2a6</td>\n",
       "      <td>[-22.152166, -20.476685, -23.338564, -26.96702...</td>\n",
       "      <td>[-25.76689, -25.766947, -26.051815, -27.635498...</td>\n",
       "      <td>38.1382</td>\n",
       "      <td>0</td>\n",
       "      <td>[-23.959528, -23.121816, -24.6951895, -27.3012...</td>\n",
       "      <td>21.138098</td>\n",
       "      <td>0.0</td>\n",
       "      <td>6.059063</td>\n",
       "    </tr>\n",
       "    <tr>\n",
       "      <th>859</th>\n",
       "      <td>f67babb0</td>\n",
       "      <td>[-25.127279, -25.687901, -28.381918, -28.38196...</td>\n",
       "      <td>[-28.785894, -33.646702, -33.646744, -32.95155...</td>\n",
       "      <td>42.5591</td>\n",
       "      <td>1</td>\n",
       "      <td>[-26.9565865, -29.6673015, -31.014331, -30.666...</td>\n",
       "      <td>18.061802</td>\n",
       "      <td>0.0</td>\n",
       "      <td>5.387069</td>\n",
       "    </tr>\n",
       "    <tr>\n",
       "      <th>23</th>\n",
       "      <td>bd1a1bdf</td>\n",
       "      <td>[-14.6148, -14.6148, -16.136662, -15.342532, -...</td>\n",
       "      <td>[-26.656, -26.656, -22.534969, -25.496277, -26...</td>\n",
       "      <td>37.6866</td>\n",
       "      <td>1</td>\n",
       "      <td>[-20.6354, -20.6354, -19.335815500000002, -20....</td>\n",
       "      <td>24.378874</td>\n",
       "      <td>0.0</td>\n",
       "      <td>9.293626</td>\n",
       "    </tr>\n",
       "  </tbody>\n",
       "</table>\n",
       "</div>"
      ],
      "text/plain": [
       "            id                                             band_1  \\\n",
       "945   07d60155  [-17.512577, -14.719253, -13.760696, -12.83898...   \n",
       "121   1dc1c160  [-20.755899, -19.012949, -18.019245, -18.37876...   \n",
       "1101  3e07a2a6  [-22.152166, -20.476685, -23.338564, -26.96702...   \n",
       "859   f67babb0  [-25.127279, -25.687901, -28.381918, -28.38196...   \n",
       "23    bd1a1bdf  [-14.6148, -14.6148, -16.136662, -15.342532, -...   \n",
       "\n",
       "                                                 band_2  inc_angle  \\\n",
       "945   [-23.238712, -24.047201, -24.261593, -23.23845...    31.5671   \n",
       "121   [-24.277725, -25.033548, -24.774302, -24.03989...    40.3904   \n",
       "1101  [-25.76689, -25.766947, -26.051815, -27.635498...    38.1382   \n",
       "859   [-28.785894, -33.646702, -33.646744, -32.95155...    42.5591   \n",
       "23    [-26.656, -26.656, -22.534969, -25.496277, -26...    37.6866   \n",
       "\n",
       "      is_iceberg                                           band_avg  \\\n",
       "945            0  [-20.3756445, -19.383227, -19.0111445, -18.038...   \n",
       "121            1  [-22.516812, -22.0232485, -21.396773500000002,...   \n",
       "1101           0  [-23.959528, -23.121816, -24.6951895, -27.3012...   \n",
       "859            1  [-26.9565865, -29.6673015, -31.014331, -30.666...   \n",
       "23             1  [-20.6354, -20.6354, -19.335815500000002, -20....   \n",
       "\n",
       "      elementwise_diff_max  elementwise_diff_min  elementwise_diff_mean  \n",
       "945              21.087152                   0.0               8.852034  \n",
       "121              20.078608                   0.0               7.542646  \n",
       "1101             21.138098                   0.0               6.059063  \n",
       "859              18.061802                   0.0               5.387069  \n",
       "23               24.378874                   0.0               9.293626  "
      ]
     },
     "execution_count": 5,
     "metadata": {},
     "output_type": "execute_result"
    }
   ],
   "source": [
    "raw_train_df.sample(5)"
   ]
  },
  {
   "cell_type": "code",
   "execution_count": 6,
   "metadata": {},
   "outputs": [
    {
     "name": "stdout",
     "output_type": "stream",
     "text": [
      "<class 'pandas.core.frame.DataFrame'>\n",
      "RangeIndex: 1604 entries, 0 to 1603\n",
      "Data columns (total 9 columns):\n",
      " #   Column                 Non-Null Count  Dtype  \n",
      "---  ------                 --------------  -----  \n",
      " 0   id                     1604 non-null   object \n",
      " 1   band_1                 1604 non-null   object \n",
      " 2   band_2                 1604 non-null   object \n",
      " 3   inc_angle              1604 non-null   float64\n",
      " 4   is_iceberg             1604 non-null   int64  \n",
      " 5   band_avg               1604 non-null   object \n",
      " 6   elementwise_diff_max   1604 non-null   float64\n",
      " 7   elementwise_diff_min   1604 non-null   float64\n",
      " 8   elementwise_diff_mean  1604 non-null   float64\n",
      "dtypes: float64(4), int64(1), object(4)\n",
      "memory usage: 112.9+ KB\n"
     ]
    }
   ],
   "source": [
    "raw_train_df.info()"
   ]
  },
  {
   "cell_type": "markdown",
   "metadata": {},
   "source": [
    "## Split into train and test set."
   ]
  },
  {
   "cell_type": "code",
   "execution_count": 7,
   "metadata": {},
   "outputs": [
    {
     "name": "stdout",
     "output_type": "stream",
     "text": [
      "Training dataframe has 1276 rows.\n",
      "Test dataframe has 328 rows.\n"
     ]
    }
   ],
   "source": [
    "mask = np.random.rand(len(raw_train_df)) < 0.8\n",
    "train_df = raw_train_df[mask]\n",
    "test_df = raw_train_df[~mask]\n",
    "print('Training dataframe has {} rows.\\nTest dataframe has {} rows.'.format(len(train_df), len(test_df)))"
   ]
  },
  {
   "cell_type": "markdown",
   "metadata": {},
   "source": [
    "## Model Analysis Preparation"
   ]
  },
  {
   "cell_type": "code",
   "execution_count": 8,
   "metadata": {},
   "outputs": [],
   "source": [
    "def df_to_examples(df, columns=None):\n",
    "    \"\"\"Converts a dataframe into a list of tf.Example protos.\"\"\"\n",
    "    examples = []\n",
    "    if columns == None:\n",
    "        columns = df.columns.values.tolist()\n",
    "    for index, row in df.iterrows():\n",
    "        example = tf.train.Example()\n",
    "        for col in columns:\n",
    "            if df[col].dtype is np.dtype(np.int64):\n",
    "                example.features.feature[col].int64_list.value.append(int(row[col]))\n",
    "            elif df[col].dtype is np.dtype(np.float64):\n",
    "                example.features.feature[col].float_list.value.append(row[col])\n",
    "            elif row[col] == row[col]:\n",
    "                example.features.feature[col].bytes_list.value.append(row[col].encode('utf-8'))\n",
    "        examples.append(example)\n",
    "    return examples\n",
    "\n",
    "def create_feature_spec(df, columns=None):\n",
    "    \"\"\"Creates a tf feature spec from the dataframe and columns specified.\"\"\"\n",
    "    feature_spec = {}\n",
    "    if columns == None:\n",
    "        columns = df.columns.values.tolist()\n",
    "    for f in columns:\n",
    "        if df[f].dtype is np.dtype(np.int64):\n",
    "            feature_spec[f] = tf.io.FixedLenFeature(shape=(), dtype=tf.int64)\n",
    "        elif df[f].dtype is np.dtype(np.float64):\n",
    "            feature_spec[f] = tf.io.FixedLenFeature(shape=(), dtype=tf.float32)\n",
    "        else:\n",
    "            feature_spec[f] = tf.io.FixedLenFeature(shape=(), dtype=tf.string)\n",
    "    return feature_spec\n",
    "\n",
    "\n",
    "def tfexamples_input_fn(examples, feature_spec, label, mode=tf.estimator.ModeKeys.EVAL,\n",
    "                       num_epochs=None, \n",
    "                       batch_size=64):\n",
    "    \"\"\"An input function for providing input to a model from tf.Examples\"\"\"\n",
    "    def ex_generator():\n",
    "        for i in range(len(examples)):\n",
    "            yield examples[i].SerializeToString()\n",
    "    dataset = tf.data.Dataset.from_generator(\n",
    "      ex_generator, tf.dtypes.string, tf.TensorShape([]))\n",
    "    if mode == tf.estimator.ModeKeys.TRAIN:\n",
    "        dataset = dataset.shuffle(buffer_size=2 * batch_size + 1)\n",
    "    dataset = dataset.batch(batch_size)\n",
    "    dataset = dataset.map(lambda tf_example: parse_tf_example(tf_example, label, feature_spec))\n",
    "    dataset = dataset.repeat(num_epochs)\n",
    "    return dataset\n",
    "\n",
    "\n",
    "def create_feature_columns(columns, feature_spec):\n",
    "    \"\"\"Creates simple numeric and categorical feature columns \n",
    "    from a feature spec and a list of columns from that spec to use.\n",
    "    \n",
    "    NOTE: Models might perform better with some feature engineering such as bucketed \n",
    "    numeric columns and hash-bucket/embedding columns for categorical features.\n",
    "    \"\"\"\n",
    "    ret = []\n",
    "    for col in columns:\n",
    "        if feature_spec[col].dtype is tf.int64 or feature_spec[col].dtype is tf.float32:\n",
    "            ret.append(tf.feature_column.numeric_column(col))\n",
    "        else:\n",
    "            ret.append(tf.feature_column.indicator_column(\n",
    "                tf.feature_column.categorical_column_with_vocabulary_list(col, list(df[col].unique()))))\n",
    "    return ret\n",
    "\n",
    "\n",
    "def parse_tf_example(example_proto, label, feature_spec):\n",
    "    \"\"\"Parses Tf.Example protos into features for the input function.\"\"\"\n",
    "    parsed_features = tf.io.parse_example(serialized=example_proto, features=feature_spec)\n",
    "    target = parsed_features.pop(label)\n",
    "    return parsed_features, target"
   ]
  },
  {
   "cell_type": "code",
   "execution_count": 9,
   "metadata": {},
   "outputs": [
    {
     "name": "stdout",
     "output_type": "stream",
     "text": [
      "features_and_labels are ['inc_angle', 'elementwise_diff_max', 'elementwise_diff_min', 'elementwise_diff_mean', 'is_iceberg']\n"
     ]
    }
   ],
   "source": [
    "# Set the column in the dataset you wish for the model to predict\n",
    "label_column = 'is_iceberg'\n",
    "\n",
    "# Make the label column numeric (0 and 1), for use in our model.\n",
    "# In this case, examples with a target value of 'is_iceberg' are considered to be in\n",
    "# the '1' (iceberg) class and all other examples are considered to be in the\n",
    "# '0' (ship) class.\n",
    "\n",
    "# make_label_column_numeric(df, label_column, lambda val: val == '>50K')\n",
    "\n",
    "# Set list of all columns from the dataset we will use for model input.\n",
    "input_features = ['inc_angle', 'elementwise_diff_max', 'elementwise_diff_min', 'elementwise_diff_mean']\n",
    "\n",
    "# Create a list containing all input features and the label column\n",
    "features_and_labels = input_features + [label_column]\n",
    "\n",
    "print('features_and_labels are {}'.format(features_and_labels))"
   ]
  },
  {
   "cell_type": "code",
   "execution_count": 10,
   "metadata": {},
   "outputs": [],
   "source": [
    "examples = df_to_examples(train_df, features_and_labels)\n",
    "\n",
    "# number of steps to train\n",
    "num_steps = 500  #@param {type: \"number\"}\n",
    "\n",
    "# Create a feature spec for the classifier\n",
    "feature_spec = create_feature_spec(train_df, features_and_labels)\n",
    "\n",
    "# Define and train the classifier\n",
    "train_inpf = functools.partial(tfexamples_input_fn, examples, feature_spec, label_column)"
   ]
  },
  {
   "cell_type": "code",
   "execution_count": 11,
   "metadata": {
    "scrolled": true
   },
   "outputs": [
    {
     "name": "stdout",
     "output_type": "stream",
     "text": [
      "INFO:tensorflow:Using default config.\n",
      "WARNING:tensorflow:Using temporary folder as model directory: /tmp/tmp0uymxyoe\n",
      "INFO:tensorflow:Using config: {'_model_dir': '/tmp/tmp0uymxyoe', '_tf_random_seed': None, '_save_summary_steps': 100, '_save_checkpoints_steps': None, '_save_checkpoints_secs': 600, '_session_config': allow_soft_placement: true\n",
      "graph_options {\n",
      "  rewrite_options {\n",
      "    meta_optimizer_iterations: ONE\n",
      "  }\n",
      "}\n",
      ", '_keep_checkpoint_max': 5, '_keep_checkpoint_every_n_hours': 10000, '_log_step_count_steps': 100, '_train_distribute': None, '_device_fn': None, '_protocol': None, '_eval_distribute': None, '_experimental_distribute': None, '_experimental_max_worker_delay_secs': None, '_session_creation_timeout_secs': 7200, '_checkpoint_save_graph_def': True, '_service': None, '_cluster_spec': ClusterSpec({}), '_task_type': 'worker', '_task_id': 0, '_global_id_in_cluster': 0, '_master': '', '_evaluation_master': '', '_is_chief': True, '_num_ps_replicas': 0, '_num_worker_replicas': 1}\n",
      "WARNING:tensorflow:From /srv/hops/anaconda/envs/theenv/lib/python3.7/site-packages/tensorflow/python/training/training_util.py:236: Variable.initialized_value (from tensorflow.python.ops.variables) is deprecated and will be removed in a future version.\n",
      "Instructions for updating:\n",
      "Use Variable.read_value. Variables in 2.X are initialized automatically both in eager and graph (inside tf.defun) contexts.\n",
      "WARNING:tensorflow:From <ipython-input-8-58070fd0cdcc>:41: calling DatasetV2.from_generator (from tensorflow.python.data.ops.dataset_ops) with output_types is deprecated and will be removed in a future version.\n",
      "Instructions for updating:\n",
      "Use output_signature instead\n",
      "WARNING:tensorflow:From <ipython-input-8-58070fd0cdcc>:41: calling DatasetV2.from_generator (from tensorflow.python.data.ops.dataset_ops) with output_shapes is deprecated and will be removed in a future version.\n",
      "Instructions for updating:\n",
      "Use output_signature instead\n",
      "INFO:tensorflow:Calling model_fn.\n"
     ]
    },
    {
     "name": "stderr",
     "output_type": "stream",
     "text": [
      "/srv/hops/anaconda/envs/theenv/lib/python3.7/site-packages/tensorflow/python/keras/engine/base_layer_v1.py:1727: UserWarning: `layer.add_variable` is deprecated and will be removed in a future version. Please use `layer.add_weight` method instead.\n",
      "  warnings.warn('`layer.add_variable` is deprecated and '\n"
     ]
    },
    {
     "name": "stdout",
     "output_type": "stream",
     "text": [
      "WARNING:tensorflow:From /srv/hops/anaconda/envs/theenv/lib/python3.7/site-packages/tensorflow/python/keras/optimizer_v2/ftrl.py:134: calling Constant.__init__ (from tensorflow.python.ops.init_ops) with dtype is deprecated and will be removed in a future version.\n",
      "Instructions for updating:\n",
      "Call initializer instance with the dtype argument instead of passing it to the constructor\n",
      "INFO:tensorflow:Done calling model_fn.\n",
      "INFO:tensorflow:Create CheckpointSaverHook.\n",
      "INFO:tensorflow:Graph was finalized.\n",
      "INFO:tensorflow:Running local_init_op.\n",
      "INFO:tensorflow:Done running local_init_op.\n",
      "INFO:tensorflow:Calling checkpoint listeners before saving checkpoint 0...\n",
      "INFO:tensorflow:Saving checkpoints for 0 into /tmp/tmp0uymxyoe/model.ckpt.\n",
      "INFO:tensorflow:Calling checkpoint listeners after saving checkpoint 0...\n",
      "INFO:tensorflow:loss = 0.6931472, step = 0\n",
      "INFO:tensorflow:global_step/sec: 24.828\n",
      "INFO:tensorflow:loss = 0.68952304, step = 100 (4.030 sec)\n",
      "INFO:tensorflow:global_step/sec: 24.5715\n",
      "INFO:tensorflow:loss = 0.6611427, step = 200 (4.070 sec)\n",
      "INFO:tensorflow:global_step/sec: 24.7972\n",
      "INFO:tensorflow:loss = 0.75395554, step = 300 (4.033 sec)\n",
      "INFO:tensorflow:global_step/sec: 25.017\n",
      "INFO:tensorflow:loss = 0.67420125, step = 400 (3.997 sec)\n",
      "INFO:tensorflow:Calling checkpoint listeners before saving checkpoint 500...\n",
      "INFO:tensorflow:Saving checkpoints for 500 into /tmp/tmp0uymxyoe/model.ckpt.\n",
      "INFO:tensorflow:Calling checkpoint listeners after saving checkpoint 500...\n",
      "INFO:tensorflow:Loss for final step: 0.4343558.\n"
     ]
    },
    {
     "data": {
      "text/plain": [
       "<tensorflow_estimator.python.estimator.canned.linear.LinearClassifierV2 at 0x7f709d420510>"
      ]
     },
     "execution_count": 11,
     "metadata": {},
     "output_type": "execute_result"
    }
   ],
   "source": [
    "# Define a linear classifier\n",
    "classifier = tf.estimator.LinearClassifier(feature_columns=create_feature_columns(input_features, feature_spec))\n",
    "\n",
    "# Train the classifier\n",
    "classifier.train(train_inpf, steps=num_steps)"
   ]
  },
  {
   "cell_type": "code",
   "execution_count": 12,
   "metadata": {},
   "outputs": [
    {
     "data": {
      "text/html": [
       "<style>.container { width:100% !important; }</style>"
      ],
      "text/plain": [
       "<IPython.core.display.HTML object>"
      ]
     },
     "metadata": {},
     "output_type": "display_data"
    },
    {
     "data": {
      "application/vnd.jupyter.widget-view+json": {
       "model_id": "87902eeffef54fcea573e6c4d1318f4d",
       "version_major": 2,
       "version_minor": 0
      },
      "text/plain": [
       "WitWidget(config={'model_type': 'classification', 'label_vocab': ['not iceberg', 'is iceberg'], 'are_sequence_…"
      ]
     },
     "metadata": {},
     "output_type": "display_data"
    }
   ],
   "source": [
    "#@title Invoke What-If Tool for test data and the trained model {display-mode: \"form\"}\n",
    "\n",
    "num_datapoints = 2000  #@param {type: \"number\"}\n",
    "tool_height_in_px = 1000  #@param {type: \"number\"}\n",
    "\n",
    "from witwidget.notebook.visualization import WitConfigBuilder\n",
    "from witwidget.notebook.visualization import WitWidget\n",
    "\n",
    "test_examples = df_to_examples(test_df, features_and_labels)\n",
    "\n",
    "# Setup the tool with the test examples and the trained classifier\n",
    "config_builder = WitConfigBuilder(test_examples).set_estimator_and_feature_spec(classifier, feature_spec).set_label_vocab(['not iceberg', 'is iceberg'])\n",
    "WitWidget(config_builder, height=tool_height_in_px)"
   ]
  },
  {
   "cell_type": "markdown",
   "metadata": {},
   "source": [
    "# End of Step 6."
   ]
  }
 ],
 "metadata": {
  "colab": {
   "collapsed_sections": [],
   "name": "What-If Tool Notebook Usage",
   "provenance": [],
   "version": "0.3.2"
  },
  "kernelspec": {
   "display_name": "Python",
   "language": "python",
   "name": "python3"
  },
  "language_info": {
   "codemirror_mode": {
    "name": "ipython",
    "version": 3
   },
   "file_extension": ".py",
   "mimetype": "text/x-python",
   "name": "python",
   "nbconvert_exporter": "python",
   "pygments_lexer": "ipython3",
   "version": "3.7.9"
  }
 },
 "nbformat": 4,
 "nbformat_minor": 4
}