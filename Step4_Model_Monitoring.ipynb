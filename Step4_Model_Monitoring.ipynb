{
 "cells": [
  {
   "cell_type": "code",
   "execution_count": 1,
   "metadata": {},
   "outputs": [
    {
     "name": "stdout",
     "output_type": "stream",
     "text": [
      "Starting Spark application\n"
     ]
    },
    {
     "data": {
      "text/html": [
       "<table>\n",
       "<tr><th>ID</th><th>YARN Application ID</th><th>Kind</th><th>State</th><th>Spark UI</th><th>Driver log</th><th>Current session?</th></tr><tr><td>53</td><td>application_1574692443370_0054</td><td>pyspark</td><td>idle</td><td><a target=\"_blank\" href=\"http://ip-172-31-23-184.eu-north-1.compute.internal:8088/proxy/application_1574692443370_0054/\">Link</a></td><td><a target=\"_blank\" href=\"http://localhost:8042/node/containerlogs/container_e03_1574692443370_0054_01_000001/ExtremeEarth__meb10000\">Link</a></td><td>✔</td></tr></table>"
      ],
      "text/plain": [
       "<IPython.core.display.HTML object>"
      ]
     },
     "metadata": {},
     "output_type": "display_data"
    },
    {
     "name": "stdout",
     "output_type": "stream",
     "text": [
      "SparkSession available as 'spark'.\n"
     ]
    }
   ],
   "source": [
    "from hops import kafka\n",
    "from hops import tls\n",
    "from confluent_kafka import Producer, Consumer\n",
    "TOPIC_NAME = \"icebergmodel-inf8037\"\n",
    "\n",
    "config = {\n",
    "    \"bootstrap.servers\": kafka.get_broker_endpoints(),\n",
    "    \"security.protocol\": kafka.get_security_protocol(),\n",
    "    \"ssl.ca.location\": tls.get_ca_chain_location(),\n",
    "    \"ssl.certificate.location\": tls.get_client_certificate_location(),\n",
    "    \"ssl.key.location\": tls.get_client_key_location(),\n",
    "    \"group.id\": \"something\"\n",
    "}\n",
    "consumer = Consumer(config)\n",
    "def print_assignment(consumer, partitions):\n",
    "    \"\"\" \n",
    "    Callback called when a Kafka consumer is assigned to a partition\n",
    "    \"\"\"\n",
    "    print('Assignment:', partitions)\n",
    "topics = [TOPIC_NAME]\n",
    "consumer.subscribe(topics, on_assign=print_assignment)\n"
   ]
  },
  {
   "cell_type": "code",
   "execution_count": 3,
   "metadata": {},
   "outputs": [
    {
     "name": "stdout",
     "output_type": "stream",
     "text": [
      "Consumed Message: asdf from topic: icebergmodel-inf8037, partition: 0, offset: 208, timestamp: (1, 1574860317663)\n",
      "Consumed Message: asdf from topic: icebergmodel-inf8037, partition: 0, offset: 209, timestamp: (1, 1574860317724)\n",
      "Topic empty, timeout when trying to consume message, try to produce messages to the topic and then re-consume\n",
      "Consumed Message: asdf from topic: icebergmodel-inf8037, partition: 0, offset: 210, timestamp: (1, 1574860396358)\n",
      "Consumed Message: asdf from topic: icebergmodel-inf8037, partition: 0, offset: 211, timestamp: (1, 1574860396407)\n",
      "Consumed Message: asdf from topic: icebergmodel-inf8037, partition: 0, offset: 212, timestamp: (1, 1574860396464)\n",
      "Consumed Message: asdf from topic: icebergmodel-inf8037, partition: 0, offset: 213, timestamp: (1, 1574860396531)\n",
      "Consumed Message: asdf from topic: icebergmodel-inf8037, partition: 0, offset: 214, timestamp: (1, 1574860396595)\n",
      "Consumed Message: asdf from topic: icebergmodel-inf8037, partition: 0, offset: 215, timestamp: (1, 1574860396669)\n",
      "Consumed Message: asdf from topic: icebergmodel-inf8037, partition: 0, offset: 216, timestamp: (1, 1574860396738)"
     ]
    }
   ],
   "source": [
    "for i in range(0, 1):\n",
    "    msg = consumer.poll(timeout=5.0)\n",
    "    if msg is not None:\n",
    "        print('Consumed Message: {} from topic: {}, partition: {}, offset: {}, timestamp: {}'.format(msg.value(), msg.topic(), msg.partition(), msg.offset(), msg.timestamp()))\n",
    "    else:\n",
    "        print(\"Topic empty, timeout when trying to consume message, try to produce messages to the topic and then re-consume\")"
   ]
  },
  {
   "cell_type": "code",
   "execution_count": null,
   "metadata": {},
   "outputs": [],
   "source": []
  }
 ],
 "metadata": {
  "kernelspec": {
   "display_name": "PySpark",
   "language": "",
   "name": "pysparkkernel"
  },
  "language_info": {
   "codemirror_mode": {
    "name": "python",
    "version": 2
   },
   "mimetype": "text/x-python",
   "name": "pyspark",
   "pygments_lexer": "python2"
  }
 },
 "nbformat": 4,
 "nbformat_minor": 4
}